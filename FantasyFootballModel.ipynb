{
 "cells": [
  {
   "cell_type": "code",
   "execution_count": 1,
   "metadata": {},
   "outputs": [],
   "source": [
    "# install necessary packages\n",
    "import nfl_data_py as nfl\n",
    "import pandas as pd\n",
    "import numpy as np\n",
    "import matplotlib.pyplot as plt"
   ]
  },
  {
   "cell_type": "code",
   "execution_count": 2,
   "metadata": {},
   "outputs": [
    {
     "name": "stdout",
     "output_type": "stream",
     "text": [
      "Downcasting floats.\n",
      "Downcasting floats.\n"
     ]
    }
   ],
   "source": [
    "# extract pbp, weekly data\n",
    "weekly_data_test = nfl.import_weekly_data([2023])\n",
    "weekly_data_train = nfl.import_weekly_data([2022, 2021, 2020, 2019])"
   ]
  },
  {
   "cell_type": "code",
   "execution_count": 3,
   "metadata": {},
   "outputs": [
    {
     "data": {
      "text/html": [
       "<div>\n",
       "<style scoped>\n",
       "    .dataframe tbody tr th:only-of-type {\n",
       "        vertical-align: middle;\n",
       "    }\n",
       "\n",
       "    .dataframe tbody tr th {\n",
       "        vertical-align: top;\n",
       "    }\n",
       "\n",
       "    .dataframe thead th {\n",
       "        text-align: right;\n",
       "    }\n",
       "</style>\n",
       "<table border=\"1\" class=\"dataframe\">\n",
       "  <thead>\n",
       "    <tr style=\"text-align: right;\">\n",
       "      <th></th>\n",
       "      <th>player_id</th>\n",
       "      <th>player_name</th>\n",
       "      <th>player_display_name</th>\n",
       "      <th>position</th>\n",
       "      <th>position_group</th>\n",
       "      <th>headshot_url</th>\n",
       "      <th>recent_team</th>\n",
       "      <th>season</th>\n",
       "      <th>week</th>\n",
       "      <th>season_type</th>\n",
       "      <th>...</th>\n",
       "      <th>receiving_first_downs</th>\n",
       "      <th>receiving_epa</th>\n",
       "      <th>receiving_2pt_conversions</th>\n",
       "      <th>racr</th>\n",
       "      <th>target_share</th>\n",
       "      <th>air_yards_share</th>\n",
       "      <th>wopr</th>\n",
       "      <th>special_teams_tds</th>\n",
       "      <th>fantasy_points</th>\n",
       "      <th>fantasy_points_ppr</th>\n",
       "    </tr>\n",
       "  </thead>\n",
       "  <tbody>\n",
       "    <tr>\n",
       "      <th>0</th>\n",
       "      <td>00-0023459</td>\n",
       "      <td>A.Rodgers</td>\n",
       "      <td>Aaron Rodgers</td>\n",
       "      <td>QB</td>\n",
       "      <td>QB</td>\n",
       "      <td>https://static.www.nfl.com/image/private/f_aut...</td>\n",
       "      <td>NYJ</td>\n",
       "      <td>2023</td>\n",
       "      <td>1</td>\n",
       "      <td>REG</td>\n",
       "      <td>...</td>\n",
       "      <td>0.0</td>\n",
       "      <td>NaN</td>\n",
       "      <td>0</td>\n",
       "      <td>NaN</td>\n",
       "      <td>NaN</td>\n",
       "      <td>NaN</td>\n",
       "      <td>NaN</td>\n",
       "      <td>0.0</td>\n",
       "      <td>0.00</td>\n",
       "      <td>0.00</td>\n",
       "    </tr>\n",
       "    <tr>\n",
       "      <th>1</th>\n",
       "      <td>00-0024243</td>\n",
       "      <td>M.Lewis</td>\n",
       "      <td>Marcedes Lewis</td>\n",
       "      <td>TE</td>\n",
       "      <td>TE</td>\n",
       "      <td>https://static.www.nfl.com/image/private/f_aut...</td>\n",
       "      <td>CHI</td>\n",
       "      <td>2023</td>\n",
       "      <td>4</td>\n",
       "      <td>REG</td>\n",
       "      <td>...</td>\n",
       "      <td>0.0</td>\n",
       "      <td>0.483465</td>\n",
       "      <td>0</td>\n",
       "      <td>0.0</td>\n",
       "      <td>0.031250</td>\n",
       "      <td>-0.012397</td>\n",
       "      <td>0.038197</td>\n",
       "      <td>0.0</td>\n",
       "      <td>0.80</td>\n",
       "      <td>1.80</td>\n",
       "    </tr>\n",
       "    <tr>\n",
       "      <th>2</th>\n",
       "      <td>00-0024243</td>\n",
       "      <td>M.Lewis</td>\n",
       "      <td>Marcedes Lewis</td>\n",
       "      <td>TE</td>\n",
       "      <td>TE</td>\n",
       "      <td>https://static.www.nfl.com/image/private/f_aut...</td>\n",
       "      <td>CHI</td>\n",
       "      <td>2023</td>\n",
       "      <td>7</td>\n",
       "      <td>REG</td>\n",
       "      <td>...</td>\n",
       "      <td>1.0</td>\n",
       "      <td>1.437224</td>\n",
       "      <td>0</td>\n",
       "      <td>3.2</td>\n",
       "      <td>0.034483</td>\n",
       "      <td>0.094340</td>\n",
       "      <td>0.117762</td>\n",
       "      <td>0.0</td>\n",
       "      <td>1.60</td>\n",
       "      <td>2.60</td>\n",
       "    </tr>\n",
       "    <tr>\n",
       "      <th>3</th>\n",
       "      <td>00-0026498</td>\n",
       "      <td>M.Stafford</td>\n",
       "      <td>Matthew Stafford</td>\n",
       "      <td>QB</td>\n",
       "      <td>QB</td>\n",
       "      <td>https://static.www.nfl.com/image/private/f_aut...</td>\n",
       "      <td>LA</td>\n",
       "      <td>2023</td>\n",
       "      <td>1</td>\n",
       "      <td>REG</td>\n",
       "      <td>...</td>\n",
       "      <td>0.0</td>\n",
       "      <td>NaN</td>\n",
       "      <td>0</td>\n",
       "      <td>NaN</td>\n",
       "      <td>NaN</td>\n",
       "      <td>NaN</td>\n",
       "      <td>NaN</td>\n",
       "      <td>0.0</td>\n",
       "      <td>14.46</td>\n",
       "      <td>14.46</td>\n",
       "    </tr>\n",
       "    <tr>\n",
       "      <th>4</th>\n",
       "      <td>00-0026498</td>\n",
       "      <td>M.Stafford</td>\n",
       "      <td>Matthew Stafford</td>\n",
       "      <td>QB</td>\n",
       "      <td>QB</td>\n",
       "      <td>https://static.www.nfl.com/image/private/f_aut...</td>\n",
       "      <td>LA</td>\n",
       "      <td>2023</td>\n",
       "      <td>2</td>\n",
       "      <td>REG</td>\n",
       "      <td>...</td>\n",
       "      <td>0.0</td>\n",
       "      <td>NaN</td>\n",
       "      <td>0</td>\n",
       "      <td>NaN</td>\n",
       "      <td>NaN</td>\n",
       "      <td>NaN</td>\n",
       "      <td>NaN</td>\n",
       "      <td>0.0</td>\n",
       "      <td>13.98</td>\n",
       "      <td>13.98</td>\n",
       "    </tr>\n",
       "  </tbody>\n",
       "</table>\n",
       "<p>5 rows × 53 columns</p>\n",
       "</div>"
      ],
      "text/plain": [
       "    player_id player_name player_display_name position position_group  \\\n",
       "0  00-0023459   A.Rodgers       Aaron Rodgers       QB             QB   \n",
       "1  00-0024243     M.Lewis      Marcedes Lewis       TE             TE   \n",
       "2  00-0024243     M.Lewis      Marcedes Lewis       TE             TE   \n",
       "3  00-0026498  M.Stafford    Matthew Stafford       QB             QB   \n",
       "4  00-0026498  M.Stafford    Matthew Stafford       QB             QB   \n",
       "\n",
       "                                        headshot_url recent_team  season  \\\n",
       "0  https://static.www.nfl.com/image/private/f_aut...         NYJ    2023   \n",
       "1  https://static.www.nfl.com/image/private/f_aut...         CHI    2023   \n",
       "2  https://static.www.nfl.com/image/private/f_aut...         CHI    2023   \n",
       "3  https://static.www.nfl.com/image/private/f_aut...          LA    2023   \n",
       "4  https://static.www.nfl.com/image/private/f_aut...          LA    2023   \n",
       "\n",
       "   week season_type  ... receiving_first_downs  receiving_epa  \\\n",
       "0     1         REG  ...                   0.0            NaN   \n",
       "1     4         REG  ...                   0.0       0.483465   \n",
       "2     7         REG  ...                   1.0       1.437224   \n",
       "3     1         REG  ...                   0.0            NaN   \n",
       "4     2         REG  ...                   0.0            NaN   \n",
       "\n",
       "   receiving_2pt_conversions  racr  target_share  air_yards_share      wopr  \\\n",
       "0                          0   NaN           NaN              NaN       NaN   \n",
       "1                          0   0.0      0.031250        -0.012397  0.038197   \n",
       "2                          0   3.2      0.034483         0.094340  0.117762   \n",
       "3                          0   NaN           NaN              NaN       NaN   \n",
       "4                          0   NaN           NaN              NaN       NaN   \n",
       "\n",
       "   special_teams_tds  fantasy_points  fantasy_points_ppr  \n",
       "0                0.0            0.00                0.00  \n",
       "1                0.0            0.80                1.80  \n",
       "2                0.0            1.60                2.60  \n",
       "3                0.0           14.46               14.46  \n",
       "4                0.0           13.98               13.98  \n",
       "\n",
       "[5 rows x 53 columns]"
      ]
     },
     "execution_count": 3,
     "metadata": {},
     "output_type": "execute_result"
    }
   ],
   "source": [
    "# view head of data\n",
    "weekly_data_test.head()"
   ]
  },
  {
   "cell_type": "code",
   "execution_count": 5,
   "metadata": {},
   "outputs": [
    {
     "data": {
      "text/plain": [
       "array(['QB', 'TE', 'WR', 'P', 'FB', 'RB', 'T', 'OLB', 'ILB', 'CB', 'FS',\n",
       "       'G', 'SS', 'DT'], dtype=object)"
      ]
     },
     "execution_count": 5,
     "metadata": {},
     "output_type": "execute_result"
    }
   ],
   "source": [
    "# view various positions\n",
    "weekly_data_test['position'].unique()"
   ]
  },
  {
   "cell_type": "code",
   "execution_count": 6,
   "metadata": {},
   "outputs": [
    {
     "data": {
      "text/plain": [
       "Index(['player_id', 'player_name', 'player_display_name', 'position',\n",
       "       'position_group', 'headshot_url', 'recent_team', 'season', 'week',\n",
       "       'season_type', 'completions', 'attempts', 'passing_yards',\n",
       "       'passing_tds', 'interceptions', 'sacks', 'sack_yards', 'sack_fumbles',\n",
       "       'sack_fumbles_lost', 'passing_air_yards', 'passing_yards_after_catch',\n",
       "       'passing_first_downs', 'passing_epa', 'passing_2pt_conversions', 'pacr',\n",
       "       'dakota', 'carries', 'rushing_yards', 'rushing_tds', 'rushing_fumbles',\n",
       "       'rushing_fumbles_lost', 'rushing_first_downs', 'rushing_epa',\n",
       "       'rushing_2pt_conversions', 'receptions', 'targets', 'receiving_yards',\n",
       "       'receiving_tds', 'receiving_fumbles', 'receiving_fumbles_lost',\n",
       "       'receiving_air_yards', 'receiving_yards_after_catch',\n",
       "       'receiving_first_downs', 'receiving_epa', 'receiving_2pt_conversions',\n",
       "       'racr', 'target_share', 'air_yards_share', 'wopr', 'special_teams_tds',\n",
       "       'fantasy_points', 'fantasy_points_ppr'],\n",
       "      dtype='object')"
      ]
     },
     "execution_count": 6,
     "metadata": {},
     "output_type": "execute_result"
    }
   ],
   "source": [
    "# show cols in weekly data\n",
    "nfl.see_weekly_cols()"
   ]
  },
  {
   "cell_type": "markdown",
   "metadata": {},
   "source": [
    "# Filter Variables from Entire Data"
   ]
  },
  {
   "cell_type": "code",
   "execution_count": 7,
   "metadata": {},
   "outputs": [],
   "source": [
    "# drop cols that are not needed in any dataframe\n",
    "cols_to_drop = ['player_id',\n",
    "                'player_display_name',\n",
    "                'position_group',\n",
    "                'headshot_url',\n",
    "                'season_type',\n",
    "                'receiving_2pt_conversions',\n",
    "                'sacks',\n",
    "                'sack_yards',\n",
    "                'sack_fumbles',\n",
    "                'sack_fumbles_lost',\n",
    "                'receiving_fumbles_lost',\n",
    "                'receiving_fumbles',\n",
    "                'rushing_fumbles',\n",
    "                'rushing_fumbles_lost',\n",
    "                'special_teams_tds'\n",
    "                ]\n",
    "weekly_data_test.drop(cols_to_drop, axis=1, inplace=True)\n",
    "weekly_data_train.drop(cols_to_drop, axis=1, inplace=True)"
   ]
  },
  {
   "cell_type": "code",
   "execution_count": 8,
   "metadata": {},
   "outputs": [
    {
     "data": {
      "text/plain": [
       "Index(['player_name', 'position', 'recent_team', 'season', 'week',\n",
       "       'opponent_team', 'completions', 'attempts', 'passing_yards',\n",
       "       'passing_tds', 'interceptions', 'passing_air_yards',\n",
       "       'passing_yards_after_catch', 'passing_first_downs', 'passing_epa',\n",
       "       'passing_2pt_conversions', 'pacr', 'dakota', 'carries', 'rushing_yards',\n",
       "       'rushing_tds', 'rushing_first_downs', 'rushing_epa',\n",
       "       'rushing_2pt_conversions', 'receptions', 'targets', 'receiving_yards',\n",
       "       'receiving_tds', 'receiving_air_yards', 'receiving_yards_after_catch',\n",
       "       'receiving_first_downs', 'receiving_epa', 'racr', 'target_share',\n",
       "       'air_yards_share', 'wopr', 'fantasy_points', 'fantasy_points_ppr',\n",
       "       'date'],\n",
       "      dtype='object')"
      ]
     },
     "execution_count": 8,
     "metadata": {},
     "output_type": "execute_result"
    }
   ],
   "source": [
    "# check that cols were dropped\n",
    "weekly_data_test.columns"
   ]
  },
  {
   "cell_type": "markdown",
   "metadata": {},
   "source": [
    "## Filter by Position"
   ]
  },
  {
   "cell_type": "code",
   "execution_count": 9,
   "metadata": {},
   "outputs": [],
   "source": [
    "#QB\n",
    "qb_train = weekly_data_train[weekly_data_train[\"position\"] == \"QB\" ]\n",
    "qb_test = weekly_data_test[weekly_data_test[\"position\"] == \"QB\"]\n",
    "\n",
    "#RB\n",
    "rb_train = weekly_data_train[weekly_data_train[\"position\"] == \"RB\"]\n",
    "rb_test = weekly_data_test[weekly_data_test[\"position\"] == \"RB\"]\n",
    "\n",
    "#WR\n",
    "wr_train = weekly_data_train[weekly_data_train[\"position\"] == \"WR\"]\n",
    "wr_test = weekly_data_test[weekly_data_test[\"position\"] == \"WR\"]\n",
    "\n",
    "#TE\n",
    "te_train = weekly_data_train[weekly_data_train[\"position\"] == \"TE\"]\n",
    "te_test = weekly_data_test[weekly_data_test[\"position\"] == \"TE\"]\n",
    "\n",
    "#FLEX\n",
    "flex_list = [\"RB\", \"WR\", \"TE\"]\n",
    "flex_train = weekly_data_train[weekly_data_train[\"position\"].isin(flex_list)]\n",
    "flex_test = weekly_data_test[weekly_data_test[\"position\"].isin(flex_list)]"
   ]
  },
  {
   "cell_type": "code",
   "execution_count": 10,
   "metadata": {},
   "outputs": [
    {
     "data": {
      "text/plain": [
       "array(['TE', 'WR', 'RB'], dtype=object)"
      ]
     },
     "execution_count": 10,
     "metadata": {},
     "output_type": "execute_result"
    }
   ],
   "source": [
    "# check that the flex position is correct\n",
    "flex_train[\"position\"].unique()"
   ]
  },
  {
   "cell_type": "markdown",
   "metadata": {},
   "source": [
    "## Drop Cols by Position"
   ]
  },
  {
   "cell_type": "code",
   "execution_count": 11,
   "metadata": {},
   "outputs": [],
   "source": [
    "# define qb cols to drop (all receiving-related cols)\n",
    "qb_cols_to_drop = ['position',\n",
    "                   'receptions',\n",
    "                   'targets',\n",
    "                   'receiving_yards',\n",
    "                   'receiving_tds',\n",
    "                   'receiving_air_yards',\n",
    "                   'receiving_yards_after_catch',\n",
    "                   'receiving_first_downs',\n",
    "                   'receiving_epa',\n",
    "                   'racr',\n",
    "                   'target_share',\n",
    "                   'air_yards_share',\n",
    "                   'wopr'\n",
    "                   ]\n",
    "qb_train = qb_train.drop(qb_cols_to_drop, axis=1)\n",
    "qb_test = qb_test.drop(qb_cols_to_drop + ['opponent_team'], axis=1)"
   ]
  },
  {
   "cell_type": "code",
   "execution_count": 12,
   "metadata": {},
   "outputs": [],
   "source": [
    "# define rb cols to drop (all passing-related cols)\n",
    "rb_cols_to_drop = ['position',\n",
    "                   'completions',\n",
    "                   'attempts',\n",
    "                   'passing_yards',\n",
    "                   'passing_tds',\n",
    "                   'passing_air_yards',\n",
    "                   'passing_yards_after_catch',\n",
    "                   'passing_first_downs',\n",
    "                   'passing_epa',\n",
    "                   'passing_2pt_conversions',\n",
    "                   'pacr',\n",
    "                   'dakota',\n",
    "                   'interceptions'\n",
    "                   ]\n",
    "rb_train = rb_train.drop(rb_cols_to_drop, axis=1)\n",
    "rb_test = rb_test.drop(rb_cols_to_drop + ['opponent_team'], axis=1)"
   ]
  },
  {
   "cell_type": "code",
   "execution_count": 13,
   "metadata": {},
   "outputs": [],
   "source": [
    "# define wr cols to drop (all passing, rushing-related cols)\n",
    "wr_cols_to_drop = ['position',\n",
    "                   'completions',\n",
    "                   'attempts',\n",
    "                   'passing_yards',\n",
    "                   'passing_tds',\n",
    "                   'passing_air_yards',\n",
    "                   'passing_yards_after_catch',\n",
    "                   'passing_first_downs',\n",
    "                   'passing_epa',\n",
    "                   'passing_2pt_conversions',\n",
    "                   'pacr',\n",
    "                   'dakota',\n",
    "                   'carries',\n",
    "                   'rushing_yards',\n",
    "                   'rushing_tds',\n",
    "                   'rushing_first_downs',\n",
    "                   'rushing_epa',\n",
    "                   'rushing_2pt_conversions',\n",
    "                   'interceptions'\n",
    "                   ]\n",
    "wr_train = wr_train.drop(wr_cols_to_drop, axis=1)\n",
    "wr_test = wr_test.drop(wr_cols_to_drop + ['opponent_team'], axis=1)"
   ]
  },
  {
   "cell_type": "code",
   "execution_count": 14,
   "metadata": {},
   "outputs": [],
   "source": [
    "# define te cols to drop (all passing, rushing-related cols)\n",
    "te_cols_to_drop = ['position',\n",
    "                   'completions',\n",
    "                   'attempts',\n",
    "                   'passing_yards',\n",
    "                   'passing_tds',\n",
    "                   'passing_air_yards',\n",
    "                   'passing_yards_after_catch',\n",
    "                   'passing_first_downs',\n",
    "                   'passing_epa',\n",
    "                   'passing_2pt_conversions',\n",
    "                   'pacr',\n",
    "                   'dakota',\n",
    "                   'carries',\n",
    "                   'rushing_yards',\n",
    "                   'rushing_tds',\n",
    "                   'rushing_first_downs',\n",
    "                   'rushing_epa',\n",
    "                   'rushing_2pt_conversions',\n",
    "                   'interceptions'\n",
    "                   ]\n",
    "te_train = te_train.drop(te_cols_to_drop, axis=1)\n",
    "te_test = te_test.drop(te_cols_to_drop + ['opponent_team'], axis=1)"
   ]
  },
  {
   "cell_type": "code",
   "execution_count": 15,
   "metadata": {},
   "outputs": [],
   "source": [
    "# define flex cols to drop (all passing-related cols)\n",
    "flex_cols_to_drop = ['position',\n",
    "                    'completions',\n",
    "                    'attempts',\n",
    "                    'passing_yards',\n",
    "                    'passing_tds',\n",
    "                    'passing_air_yards',\n",
    "                    'passing_yards_after_catch',\n",
    "                    'passing_first_downs',\n",
    "                    'passing_epa',\n",
    "                    'passing_2pt_conversions',\n",
    "                    'pacr',\n",
    "                    'dakota',\n",
    "                    'interceptions'\n",
    "                   ]\n",
    "flex_train = flex_train.drop(flex_cols_to_drop, axis=1)\n",
    "flex_test = flex_test.drop(flex_cols_to_drop + ['opponent_team'], axis=1)"
   ]
  },
  {
   "cell_type": "markdown",
   "metadata": {},
   "source": [
    "# Other Preprocessing"
   ]
  },
  {
   "cell_type": "code",
   "execution_count": 16,
   "metadata": {},
   "outputs": [],
   "source": [
    "# change categorical QB data cols to one-hot encoding\n",
    "qb_train = pd.get_dummies(qb_train, columns=['recent_team'])\n",
    "qb_test = pd.get_dummies(qb_test, columns=['recent_team'])"
   ]
  },
  {
   "cell_type": "code",
   "execution_count": 17,
   "metadata": {},
   "outputs": [],
   "source": [
    "# change categorical RB data cols to one-hot encoding\n",
    "rb_train = pd.get_dummies(rb_train, columns=['recent_team'])\n",
    "rb_test = pd.get_dummies(rb_test, columns=['recent_team'])"
   ]
  },
  {
   "cell_type": "code",
   "execution_count": 18,
   "metadata": {},
   "outputs": [],
   "source": [
    "# change categorical WR data cols to one-hot encoding\n",
    "wr_train = pd.get_dummies(wr_train, columns=['recent_team'])\n",
    "wr_test = pd.get_dummies(wr_test, columns=['recent_team'])"
   ]
  },
  {
   "cell_type": "code",
   "execution_count": 19,
   "metadata": {},
   "outputs": [],
   "source": [
    "# change categorical TE data cols to one-hot encoding\n",
    "te_train = pd.get_dummies(te_train, columns=['recent_team'])\n",
    "te_test = pd.get_dummies(te_test, columns=['recent_team'])"
   ]
  },
  {
   "cell_type": "code",
   "execution_count": 20,
   "metadata": {},
   "outputs": [],
   "source": [
    "# change categorical FLEX data cols to one-hot encoding\n",
    "flex_train = pd.get_dummies(flex_train, columns=['recent_team'])\n",
    "flex_test = pd.get_dummies(flex_test, columns=['recent_team'])"
   ]
  },
  {
   "cell_type": "code",
   "execution_count": 44,
   "metadata": {},
   "outputs": [],
   "source": [
    "# set horizon (number of weeks to predict after training data ends), to 1\n",
    "h = 1"
   ]
  },
  {
   "cell_type": "markdown",
   "metadata": {},
   "source": [
    "# Feature Engineering and Training"
   ]
  },
  {
   "cell_type": "markdown",
   "metadata": {},
   "source": [
    "Code credit for this part goes to [this article](https://forecastegy.com/posts/multivariate-time-series-forecasting-in-python/)"
   ]
  },
  {
   "cell_type": "code",
   "execution_count": 45,
   "metadata": {},
   "outputs": [],
   "source": [
    "# import necessary packages\n",
    "from sklearn.ensemble import RandomForestRegressor\n",
    "from sklearn.impute import SimpleImputer\n",
    "from sklearn.pipeline import make_pipeline\n",
    "from xgboost import XGBRegressor\n",
    "from mlforecast import MLForecast\n",
    "\n",
    "from window_ops.rolling import rolling_mean, rolling_max, rolling_min"
   ]
  },
  {
   "cell_type": "code",
   "execution_count": 46,
   "metadata": {},
   "outputs": [],
   "source": [
    "# make pipeline for models\n",
    "models = [\n",
    "    make_pipeline(SimpleImputer(), #simple imputer fills missing vals in data\n",
    "                  RandomForestRegressor(),\n",
    "                  XGBRegressor())\n",
    "]\n",
    "\n",
    "# specify forecast settings\n",
    "model = MLForecast(models=models, #pass model pipeline to model\n",
    "                   freq='W', #frequency of data is weekly\n",
    "                   lags=[1,2,3,4,5,6,7,8], #use 1-8 weeks of lagged data to predict next week\n",
    "                   lag_transforms={\n",
    "                       1: [(rolling_mean, 4), (rolling_max, 4), (rolling_min, 4)], #use rolling mean, max, min of 4 weeks of data\n",
    "                   },\n",
    "                   date_features=['week', 'season'], #date features to use\n",
    "                   num_threads=1) #number of threads to use - set to num cores in machine\n"
   ]
  },
  {
   "cell_type": "code",
   "execution_count": 47,
   "metadata": {},
   "outputs": [],
   "source": [
    "# specify static and dynamic features\n",
    "qb_dynamic_fts = ['season', 'week', 'completions', 'attempts',\n",
    "       'passing_yards', 'passing_tds', 'interceptions', 'passing_air_yards',\n",
    "       'passing_yards_after_catch', 'passing_first_downs', 'passing_epa',\n",
    "       'passing_2pt_conversions', 'pacr', 'dakota', 'carries', 'rushing_yards',\n",
    "       'rushing_tds', 'rushing_first_downs', 'rushing_epa',\n",
    "       'rushing_2pt_conversions', 'fantasy_points', 'fantasy_points_ppr',\n",
    "       'recent_team_ARI', 'recent_team_ATL', 'recent_team_BAL',\n",
    "       'recent_team_BUF', 'recent_team_CAR', 'recent_team_CHI',\n",
    "       'recent_team_CIN', 'recent_team_CLE', 'recent_team_DAL',\n",
    "       'recent_team_DEN', 'recent_team_DET', 'recent_team_GB',\n",
    "       'recent_team_HOU', 'recent_team_IND', 'recent_team_JAX',\n",
    "       'recent_team_KC', 'recent_team_LA', 'recent_team_LAC', 'recent_team_LV',\n",
    "       'recent_team_MIA', 'recent_team_MIN', 'recent_team_NE',\n",
    "       'recent_team_NO', 'recent_team_NYG', 'recent_team_NYJ',\n",
    "       'recent_team_PHI', 'recent_team_PIT', 'recent_team_SEA',\n",
    "       'recent_team_SF', 'recent_team_TB', 'recent_team_TEN',\n",
    "       'recent_team_WAS']\n",
    "qb_static_fts = ['player_name']"
   ]
  },
  {
   "cell_type": "code",
   "execution_count": 48,
   "metadata": {},
   "outputs": [],
   "source": [
    "rb_dynamic_fts = ['season', 'week', 'carries', 'rushing_yards',\n",
    "       'rushing_tds', 'rushing_first_downs', 'rushing_epa',\n",
    "       'rushing_2pt_conversions', 'receptions', 'targets', 'receiving_yards',\n",
    "       'receiving_tds', 'receiving_air_yards', 'receiving_yards_after_catch',\n",
    "       'receiving_first_downs', 'receiving_epa', 'racr', 'target_share',\n",
    "       'air_yards_share', 'wopr', 'fantasy_points', 'fantasy_points_ppr',\n",
    "       'recent_team_ARI', 'recent_team_ATL', 'recent_team_BAL',\n",
    "       'recent_team_BUF', 'recent_team_CAR', 'recent_team_CHI',\n",
    "       'recent_team_CIN', 'recent_team_CLE', 'recent_team_DAL',\n",
    "       'recent_team_DEN', 'recent_team_DET', 'recent_team_GB',\n",
    "       'recent_team_HOU', 'recent_team_IND', 'recent_team_JAX',\n",
    "       'recent_team_KC', 'recent_team_LA', 'recent_team_LAC', 'recent_team_LV',\n",
    "       'recent_team_MIA', 'recent_team_MIN', 'recent_team_NE',\n",
    "       'recent_team_NO', 'recent_team_NYG', 'recent_team_NYJ',\n",
    "       'recent_team_PHI', 'recent_team_PIT', 'recent_team_SEA',\n",
    "       'recent_team_SF', 'recent_team_TB', 'recent_team_TEN',\n",
    "       'recent_team_WAS']\n",
    "rb_static_fts = ['player_name']"
   ]
  },
  {
   "cell_type": "code",
   "execution_count": 49,
   "metadata": {},
   "outputs": [],
   "source": [
    "wr_dynamic_fts = ['season', 'week', 'receptions', 'targets',\n",
    "       'receiving_yards', 'receiving_tds', 'receiving_air_yards',\n",
    "       'receiving_yards_after_catch', 'receiving_first_downs', 'receiving_epa',\n",
    "       'racr', 'target_share', 'air_yards_share', 'wopr', 'fantasy_points',\n",
    "       'fantasy_points_ppr', 'recent_team_ARI', 'recent_team_ATL',\n",
    "       'recent_team_BAL', 'recent_team_BUF', 'recent_team_CAR',\n",
    "       'recent_team_CHI', 'recent_team_CIN', 'recent_team_CLE',\n",
    "       'recent_team_DAL', 'recent_team_DEN', 'recent_team_DET',\n",
    "       'recent_team_GB', 'recent_team_HOU', 'recent_team_IND',\n",
    "       'recent_team_JAX', 'recent_team_KC', 'recent_team_LA',\n",
    "       'recent_team_LAC', 'recent_team_LV', 'recent_team_MIA',\n",
    "       'recent_team_MIN', 'recent_team_NE', 'recent_team_NO',\n",
    "       'recent_team_NYG', 'recent_team_NYJ', 'recent_team_PHI',\n",
    "       'recent_team_PIT', 'recent_team_SEA', 'recent_team_SF',\n",
    "       'recent_team_TB', 'recent_team_TEN', 'recent_team_WAS']\n",
    "wr_static_fts = ['player_name']"
   ]
  },
  {
   "cell_type": "code",
   "execution_count": 50,
   "metadata": {},
   "outputs": [],
   "source": [
    "te_dynamic_fts = ['season', 'week', 'receptions', 'targets',\n",
    "       'receiving_yards', 'receiving_tds', 'receiving_air_yards',\n",
    "       'receiving_yards_after_catch', 'receiving_first_downs', 'receiving_epa',\n",
    "       'racr', 'target_share', 'air_yards_share', 'wopr', 'fantasy_points',\n",
    "       'fantasy_points_ppr', 'recent_team_ARI', 'recent_team_ATL',\n",
    "       'recent_team_BAL', 'recent_team_BUF', 'recent_team_CAR',\n",
    "       'recent_team_CHI', 'recent_team_CIN', 'recent_team_CLE',\n",
    "       'recent_team_DAL', 'recent_team_DEN', 'recent_team_DET',\n",
    "       'recent_team_GB', 'recent_team_HOU', 'recent_team_IND',\n",
    "       'recent_team_JAX', 'recent_team_KC', 'recent_team_LA',\n",
    "       'recent_team_LAC', 'recent_team_LV', 'recent_team_MIA',\n",
    "       'recent_team_MIN', 'recent_team_NE', 'recent_team_NO',\n",
    "       'recent_team_NYG', 'recent_team_NYJ', 'recent_team_PHI',\n",
    "       'recent_team_PIT', 'recent_team_SEA', 'recent_team_SF',\n",
    "       'recent_team_TB', 'recent_team_TEN', 'recent_team_WAS']\n",
    "te_static_fts = ['player_name']"
   ]
  },
  {
   "cell_type": "code",
   "execution_count": 51,
   "metadata": {},
   "outputs": [],
   "source": [
    "flex_dynamic_fts = ['week', 'carries', 'rushing_yards', 'rushing_tds',\n",
    "       'rushing_first_downs', 'rushing_epa', 'rushing_2pt_conversions',\n",
    "       'receptions', 'targets', 'receiving_yards', 'receiving_tds',\n",
    "       'receiving_air_yards', 'receiving_yards_after_catch',\n",
    "       'receiving_first_downs', 'receiving_epa', 'racr', 'target_share',\n",
    "       'air_yards_share', 'wopr', 'fantasy_points', 'fantasy_points_ppr',\n",
    "       'recent_team_ARI', 'recent_team_ATL', 'recent_team_BAL',\n",
    "       'recent_team_BUF', 'recent_team_CAR', 'recent_team_CHI',\n",
    "       'recent_team_CIN', 'recent_team_CLE', 'recent_team_DAL',\n",
    "       'recent_team_DEN', 'recent_team_DET', 'recent_team_GB',\n",
    "       'recent_team_HOU', 'recent_team_IND', 'recent_team_JAX',\n",
    "       'recent_team_KC', 'recent_team_LA', 'recent_team_LAC', 'recent_team_LV',\n",
    "       'recent_team_MIA', 'recent_team_MIN', 'recent_team_NE',\n",
    "       'recent_team_NO', 'recent_team_NYG', 'recent_team_NYJ',\n",
    "       'recent_team_PHI', 'recent_team_PIT', 'recent_team_SEA',\n",
    "       'recent_team_SF', 'recent_team_TB', 'recent_team_TEN',\n",
    "       'recent_team_WAS', ]\n",
    "flex_static_fts = ['player_name']"
   ]
  },
  {
   "cell_type": "markdown",
   "metadata": {},
   "source": [
    "# Train Models"
   ]
  },
  {
   "cell_type": "code",
   "execution_count": 52,
   "metadata": {},
   "outputs": [
    {
     "name": "stderr",
     "output_type": "stream",
     "text": [
      "/Users/peterkruse/Desktop/proj/my_env/lib/python3.9/site-packages/mlforecast/core.py:209: UserWarning: Setting `freq=1` since time col is int.\n",
      "  warnings.warn(\"Setting `freq=1` since time col is int.\")\n"
     ]
    },
    {
     "ename": "AttributeError",
     "evalue": "'Series' object has no attribute 'isocalendar'",
     "output_type": "error",
     "traceback": [
      "\u001b[0;31m---------------------------------------------------------------------------\u001b[0m",
      "\u001b[0;31mAttributeError\u001b[0m                            Traceback (most recent call last)",
      "\u001b[0;32m/var/folders/rz/5z9n4rs547b8n61vlj_q4mn40000gn/T/ipykernel_45469/4044776294.py\u001b[0m in \u001b[0;36m?\u001b[0;34m()\u001b[0m\n\u001b[0;32m----> 1\u001b[0;31m model.fit(qb_train,\n\u001b[0m\u001b[1;32m      2\u001b[0m           \u001b[0mid_col\u001b[0m\u001b[0;34m=\u001b[0m \u001b[0;34m'player_name'\u001b[0m\u001b[0;34m,\u001b[0m\u001b[0;34m\u001b[0m\u001b[0;34m\u001b[0m\u001b[0m\n\u001b[1;32m      3\u001b[0m           \u001b[0mtime_col\u001b[0m\u001b[0;34m=\u001b[0m\u001b[0;34m'week'\u001b[0m\u001b[0;34m,\u001b[0m\u001b[0;34m\u001b[0m\u001b[0;34m\u001b[0m\u001b[0m\n\u001b[1;32m      4\u001b[0m           \u001b[0mtarget_col\u001b[0m\u001b[0;34m=\u001b[0m\u001b[0;34m'fantasy_points_ppr'\u001b[0m\u001b[0;34m,\u001b[0m\u001b[0;34m\u001b[0m\u001b[0;34m\u001b[0m\u001b[0m\n",
      "\u001b[0;32m~/Desktop/proj/my_env/lib/python3.9/site-packages/mlforecast/utils.py\u001b[0m in \u001b[0;36m?\u001b[0;34m(*args, **kwargs)\u001b[0m\n\u001b[1;32m    160\u001b[0m                         \u001b[0mnew_args\u001b[0m \u001b[0;34m=\u001b[0m \u001b[0mlist\u001b[0m\u001b[0;34m(\u001b[0m\u001b[0mnew_args\u001b[0m\u001b[0;34m)\u001b[0m\u001b[0;34m\u001b[0m\u001b[0;34m\u001b[0m\u001b[0m\n\u001b[1;32m    161\u001b[0m                         \u001b[0;32mfor\u001b[0m \u001b[0mi\u001b[0m \u001b[0;32min\u001b[0m \u001b[0mrange\u001b[0m\u001b[0;34m(\u001b[0m\u001b[0mlen\u001b[0m\u001b[0;34m(\u001b[0m\u001b[0mnew_args\u001b[0m\u001b[0;34m)\u001b[0m\u001b[0;34m,\u001b[0m \u001b[0mpos\u001b[0m\u001b[0;34m)\u001b[0m\u001b[0;34m:\u001b[0m\u001b[0;34m\u001b[0m\u001b[0;34m\u001b[0m\u001b[0m\n\u001b[1;32m    162\u001b[0m                             \u001b[0mnew_args\u001b[0m\u001b[0;34m.\u001b[0m\u001b[0mappend\u001b[0m\u001b[0;34m(\u001b[0m\u001b[0mkwargs\u001b[0m\u001b[0;34m.\u001b[0m\u001b[0mpop\u001b[0m\u001b[0;34m(\u001b[0m\u001b[0marg_names\u001b[0m\u001b[0;34m[\u001b[0m\u001b[0mi\u001b[0m\u001b[0;34m]\u001b[0m\u001b[0;34m)\u001b[0m\u001b[0;34m)\u001b[0m\u001b[0;34m\u001b[0m\u001b[0;34m\u001b[0m\u001b[0m\n\u001b[1;32m    163\u001b[0m                         \u001b[0mnew_args\u001b[0m\u001b[0;34m.\u001b[0m\u001b[0mappend\u001b[0m\u001b[0;34m(\u001b[0m\u001b[0mkwargs\u001b[0m\u001b[0;34m.\u001b[0m\u001b[0mpop\u001b[0m\u001b[0;34m(\u001b[0m\u001b[0mold_name\u001b[0m\u001b[0;34m)\u001b[0m\u001b[0;34m)\u001b[0m\u001b[0;34m\u001b[0m\u001b[0;34m\u001b[0m\u001b[0m\n\u001b[0;32m--> 164\u001b[0;31m             \u001b[0;32mreturn\u001b[0m \u001b[0mf\u001b[0m\u001b[0;34m(\u001b[0m\u001b[0;34m*\u001b[0m\u001b[0mnew_args\u001b[0m\u001b[0;34m,\u001b[0m \u001b[0;34m**\u001b[0m\u001b[0mkwargs\u001b[0m\u001b[0;34m)\u001b[0m\u001b[0;34m\u001b[0m\u001b[0;34m\u001b[0m\u001b[0m\n\u001b[0m",
      "\u001b[0;32m~/Desktop/proj/my_env/lib/python3.9/site-packages/mlforecast/forecast.py\u001b[0m in \u001b[0;36m?\u001b[0;34m(self, df, id_col, time_col, target_col, static_features, dropna, keep_last_n, max_horizon, prediction_intervals, fitted, data)\u001b[0m\n\u001b[1;32m    446\u001b[0m                 \u001b[0mkeep_last_n\u001b[0m\u001b[0;34m=\u001b[0m\u001b[0mkeep_last_n\u001b[0m\u001b[0;34m,\u001b[0m\u001b[0;34m\u001b[0m\u001b[0;34m\u001b[0m\u001b[0m\n\u001b[1;32m    447\u001b[0m                 \u001b[0mn_windows\u001b[0m\u001b[0;34m=\u001b[0m\u001b[0mprediction_intervals\u001b[0m\u001b[0;34m.\u001b[0m\u001b[0mn_windows\u001b[0m\u001b[0;34m,\u001b[0m\u001b[0;34m\u001b[0m\u001b[0;34m\u001b[0m\u001b[0m\n\u001b[1;32m    448\u001b[0m                 \u001b[0mh\u001b[0m\u001b[0;34m=\u001b[0m\u001b[0mprediction_intervals\u001b[0m\u001b[0;34m.\u001b[0m\u001b[0mh\u001b[0m\u001b[0;34m,\u001b[0m\u001b[0;34m\u001b[0m\u001b[0;34m\u001b[0m\u001b[0m\n\u001b[1;32m    449\u001b[0m             )\n\u001b[0;32m--> 450\u001b[0;31m         X_with_info, y = self.preprocess(\n\u001b[0m\u001b[1;32m    451\u001b[0m             \u001b[0mdf\u001b[0m\u001b[0;34m=\u001b[0m\u001b[0mdf\u001b[0m\u001b[0;34m,\u001b[0m\u001b[0;34m\u001b[0m\u001b[0;34m\u001b[0m\u001b[0m\n\u001b[1;32m    452\u001b[0m             \u001b[0mid_col\u001b[0m\u001b[0;34m=\u001b[0m\u001b[0mid_col\u001b[0m\u001b[0;34m,\u001b[0m\u001b[0;34m\u001b[0m\u001b[0;34m\u001b[0m\u001b[0m\n\u001b[1;32m    453\u001b[0m             \u001b[0mtime_col\u001b[0m\u001b[0;34m=\u001b[0m\u001b[0mtime_col\u001b[0m\u001b[0;34m,\u001b[0m\u001b[0;34m\u001b[0m\u001b[0;34m\u001b[0m\u001b[0m\n",
      "\u001b[0;32m~/Desktop/proj/my_env/lib/python3.9/site-packages/mlforecast/utils.py\u001b[0m in \u001b[0;36m?\u001b[0;34m(*args, **kwargs)\u001b[0m\n\u001b[1;32m    160\u001b[0m                         \u001b[0mnew_args\u001b[0m \u001b[0;34m=\u001b[0m \u001b[0mlist\u001b[0m\u001b[0;34m(\u001b[0m\u001b[0mnew_args\u001b[0m\u001b[0;34m)\u001b[0m\u001b[0;34m\u001b[0m\u001b[0;34m\u001b[0m\u001b[0m\n\u001b[1;32m    161\u001b[0m                         \u001b[0;32mfor\u001b[0m \u001b[0mi\u001b[0m \u001b[0;32min\u001b[0m \u001b[0mrange\u001b[0m\u001b[0;34m(\u001b[0m\u001b[0mlen\u001b[0m\u001b[0;34m(\u001b[0m\u001b[0mnew_args\u001b[0m\u001b[0;34m)\u001b[0m\u001b[0;34m,\u001b[0m \u001b[0mpos\u001b[0m\u001b[0;34m)\u001b[0m\u001b[0;34m:\u001b[0m\u001b[0;34m\u001b[0m\u001b[0;34m\u001b[0m\u001b[0m\n\u001b[1;32m    162\u001b[0m                             \u001b[0mnew_args\u001b[0m\u001b[0;34m.\u001b[0m\u001b[0mappend\u001b[0m\u001b[0;34m(\u001b[0m\u001b[0mkwargs\u001b[0m\u001b[0;34m.\u001b[0m\u001b[0mpop\u001b[0m\u001b[0;34m(\u001b[0m\u001b[0marg_names\u001b[0m\u001b[0;34m[\u001b[0m\u001b[0mi\u001b[0m\u001b[0;34m]\u001b[0m\u001b[0;34m)\u001b[0m\u001b[0;34m)\u001b[0m\u001b[0;34m\u001b[0m\u001b[0;34m\u001b[0m\u001b[0m\n\u001b[1;32m    163\u001b[0m                         \u001b[0mnew_args\u001b[0m\u001b[0;34m.\u001b[0m\u001b[0mappend\u001b[0m\u001b[0;34m(\u001b[0m\u001b[0mkwargs\u001b[0m\u001b[0;34m.\u001b[0m\u001b[0mpop\u001b[0m\u001b[0;34m(\u001b[0m\u001b[0mold_name\u001b[0m\u001b[0;34m)\u001b[0m\u001b[0;34m)\u001b[0m\u001b[0;34m\u001b[0m\u001b[0;34m\u001b[0m\u001b[0m\n\u001b[0;32m--> 164\u001b[0;31m             \u001b[0;32mreturn\u001b[0m \u001b[0mf\u001b[0m\u001b[0;34m(\u001b[0m\u001b[0;34m*\u001b[0m\u001b[0mnew_args\u001b[0m\u001b[0;34m,\u001b[0m \u001b[0;34m**\u001b[0m\u001b[0mkwargs\u001b[0m\u001b[0;34m)\u001b[0m\u001b[0;34m\u001b[0m\u001b[0;34m\u001b[0m\u001b[0m\n\u001b[0m",
      "\u001b[0;32m~/Desktop/proj/my_env/lib/python3.9/site-packages/mlforecast/forecast.py\u001b[0m in \u001b[0;36m?\u001b[0;34m(self, df, id_col, time_col, target_col, static_features, dropna, keep_last_n, max_horizon, return_X_y, data)\u001b[0m\n\u001b[1;32m    233\u001b[0m         \u001b[0;34m-\u001b[0m\u001b[0;34m-\u001b[0m\u001b[0;34m-\u001b[0m\u001b[0;34m-\u001b[0m\u001b[0;34m-\u001b[0m\u001b[0;34m-\u001b[0m\u001b[0;34m-\u001b[0m\u001b[0;34m\u001b[0m\u001b[0;34m\u001b[0m\u001b[0m\n\u001b[1;32m    234\u001b[0m         \u001b[0mresult\u001b[0m \u001b[0;34m:\u001b[0m \u001b[0mpandas\u001b[0m \u001b[0mDataFrame\u001b[0m \u001b[0;32mor\u001b[0m \u001b[0mtuple\u001b[0m \u001b[0mof\u001b[0m \u001b[0mpandas\u001b[0m \u001b[0mDataframe\u001b[0m \u001b[0;32mand\u001b[0m \u001b[0meither\u001b[0m \u001b[0ma\u001b[0m \u001b[0mpandas\u001b[0m \u001b[0mSeries\u001b[0m \u001b[0;32mor\u001b[0m \u001b[0ma\u001b[0m \u001b[0mpandas\u001b[0m \u001b[0mDataframe\u001b[0m \u001b[0;34m(\u001b[0m\u001b[0;32mfor\u001b[0m \u001b[0mmulti\u001b[0m\u001b[0;34m-\u001b[0m\u001b[0moutput\u001b[0m \u001b[0mregression\u001b[0m\u001b[0;34m)\u001b[0m\u001b[0;34m.\u001b[0m\u001b[0;34m\u001b[0m\u001b[0;34m\u001b[0m\u001b[0m\n\u001b[1;32m    235\u001b[0m             \u001b[0;31m`\u001b[0m\u001b[0mdf\u001b[0m\u001b[0;31m`\u001b[0m \u001b[0mplus\u001b[0m \u001b[0madded\u001b[0m \u001b[0mfeatures\u001b[0m \u001b[0;32mand\u001b[0m \u001b[0mtarget\u001b[0m\u001b[0;34m(\u001b[0m\u001b[0ms\u001b[0m\u001b[0;34m)\u001b[0m\u001b[0;34m.\u001b[0m\u001b[0;34m\u001b[0m\u001b[0;34m\u001b[0m\u001b[0m\n\u001b[1;32m    236\u001b[0m         \"\"\"\n\u001b[0;32m--> 237\u001b[0;31m         return self.ts.fit_transform(\n\u001b[0m\u001b[1;32m    238\u001b[0m             \u001b[0mdf\u001b[0m\u001b[0;34m,\u001b[0m\u001b[0;34m\u001b[0m\u001b[0;34m\u001b[0m\u001b[0m\n\u001b[1;32m    239\u001b[0m             \u001b[0mid_col\u001b[0m\u001b[0;34m=\u001b[0m\u001b[0mid_col\u001b[0m\u001b[0;34m,\u001b[0m\u001b[0;34m\u001b[0m\u001b[0;34m\u001b[0m\u001b[0m\n\u001b[1;32m    240\u001b[0m             \u001b[0mtime_col\u001b[0m\u001b[0;34m=\u001b[0m\u001b[0mtime_col\u001b[0m\u001b[0;34m,\u001b[0m\u001b[0;34m\u001b[0m\u001b[0;34m\u001b[0m\u001b[0m\n",
      "\u001b[0;32m~/Desktop/proj/my_env/lib/python3.9/site-packages/mlforecast/core.py\u001b[0m in \u001b[0;36m?\u001b[0;34m(self, data, id_col, time_col, target_col, static_features, dropna, keep_last_n, max_horizon, return_X_y)\u001b[0m\n\u001b[1;32m    391\u001b[0m         \u001b[0mIf\u001b[0m\u001b[0;31m \u001b[0m\u001b[0;31m`\u001b[0m\u001b[0mkeep_last_n\u001b[0m\u001b[0;31m`\u001b[0m \u001b[0;32mis\u001b[0m \u001b[0;32mnot\u001b[0m \u001b[0;32mNone\u001b[0m \u001b[0mthen\u001b[0m \u001b[0mthat\u001b[0m \u001b[0mnumber\u001b[0m \u001b[0mof\u001b[0m \u001b[0mobservations\u001b[0m \u001b[0;32mis\u001b[0m \u001b[0mkept\u001b[0m \u001b[0macross\u001b[0m \u001b[0mall\u001b[0m \u001b[0mseries\u001b[0m \u001b[0;32mfor\u001b[0m \u001b[0mupdates\u001b[0m\u001b[0;34m.\u001b[0m\u001b[0;34m\u001b[0m\u001b[0;34m\u001b[0m\u001b[0m\n\u001b[1;32m    392\u001b[0m         \"\"\"\n\u001b[1;32m    393\u001b[0m         \u001b[0mself\u001b[0m\u001b[0;34m.\u001b[0m\u001b[0mdropna\u001b[0m \u001b[0;34m=\u001b[0m \u001b[0mdropna\u001b[0m\u001b[0;34m\u001b[0m\u001b[0;34m\u001b[0m\u001b[0m\n\u001b[1;32m    394\u001b[0m         \u001b[0mself\u001b[0m\u001b[0;34m.\u001b[0m\u001b[0m_fit\u001b[0m\u001b[0;34m(\u001b[0m\u001b[0mdata\u001b[0m\u001b[0;34m,\u001b[0m \u001b[0mid_col\u001b[0m\u001b[0;34m,\u001b[0m \u001b[0mtime_col\u001b[0m\u001b[0;34m,\u001b[0m \u001b[0mtarget_col\u001b[0m\u001b[0;34m,\u001b[0m \u001b[0mstatic_features\u001b[0m\u001b[0;34m,\u001b[0m \u001b[0mkeep_last_n\u001b[0m\u001b[0;34m)\u001b[0m\u001b[0;34m\u001b[0m\u001b[0;34m\u001b[0m\u001b[0m\n\u001b[0;32m--> 395\u001b[0;31m         return self._transform(\n\u001b[0m\u001b[1;32m    396\u001b[0m             \u001b[0mdata\u001b[0m\u001b[0;34m,\u001b[0m \u001b[0mdropna\u001b[0m\u001b[0;34m=\u001b[0m\u001b[0mdropna\u001b[0m\u001b[0;34m,\u001b[0m \u001b[0mmax_horizon\u001b[0m\u001b[0;34m=\u001b[0m\u001b[0mmax_horizon\u001b[0m\u001b[0;34m,\u001b[0m \u001b[0mreturn_X_y\u001b[0m\u001b[0;34m=\u001b[0m\u001b[0mreturn_X_y\u001b[0m\u001b[0;34m\u001b[0m\u001b[0;34m\u001b[0m\u001b[0m\n\u001b[1;32m    397\u001b[0m         )\n",
      "\u001b[0;32m~/Desktop/proj/my_env/lib/python3.9/site-packages/mlforecast/core.py\u001b[0m in \u001b[0;36m?\u001b[0;34m(self, df, dropna, max_horizon, return_X_y)\u001b[0m\n\u001b[1;32m    357\u001b[0m             \u001b[0mdates\u001b[0m \u001b[0;34m=\u001b[0m \u001b[0mdf\u001b[0m\u001b[0;34m[\u001b[0m\u001b[0mself\u001b[0m\u001b[0;34m.\u001b[0m\u001b[0mtime_col\u001b[0m\u001b[0;34m]\u001b[0m\u001b[0;34m\u001b[0m\u001b[0;34m\u001b[0m\u001b[0m\n\u001b[1;32m    358\u001b[0m             \u001b[0;32mif\u001b[0m \u001b[0;32mnot\u001b[0m \u001b[0mnp\u001b[0m\u001b[0;34m.\u001b[0m\u001b[0missubdtype\u001b[0m\u001b[0;34m(\u001b[0m\u001b[0mdates\u001b[0m\u001b[0;34m.\u001b[0m\u001b[0mdtype\u001b[0m\u001b[0;34m.\u001b[0m\u001b[0mtype\u001b[0m\u001b[0;34m,\u001b[0m \u001b[0mnp\u001b[0m\u001b[0;34m.\u001b[0m\u001b[0minteger\u001b[0m\u001b[0;34m)\u001b[0m\u001b[0;34m:\u001b[0m\u001b[0;34m\u001b[0m\u001b[0;34m\u001b[0m\u001b[0m\n\u001b[1;32m    359\u001b[0m                 \u001b[0mdates\u001b[0m \u001b[0;34m=\u001b[0m \u001b[0mpd\u001b[0m\u001b[0;34m.\u001b[0m\u001b[0mDatetimeIndex\u001b[0m\u001b[0;34m(\u001b[0m\u001b[0mdates\u001b[0m\u001b[0;34m)\u001b[0m\u001b[0;34m\u001b[0m\u001b[0;34m\u001b[0m\u001b[0m\n\u001b[1;32m    360\u001b[0m             \u001b[0;32mfor\u001b[0m \u001b[0mfeature\u001b[0m \u001b[0;32min\u001b[0m \u001b[0mself\u001b[0m\u001b[0;34m.\u001b[0m\u001b[0mdate_features\u001b[0m\u001b[0;34m:\u001b[0m\u001b[0;34m\u001b[0m\u001b[0;34m\u001b[0m\u001b[0m\n\u001b[0;32m--> 361\u001b[0;31m                 \u001b[0mfeat_name\u001b[0m\u001b[0;34m,\u001b[0m \u001b[0mfeat_vals\u001b[0m \u001b[0;34m=\u001b[0m \u001b[0mself\u001b[0m\u001b[0;34m.\u001b[0m\u001b[0m_compute_date_feature\u001b[0m\u001b[0;34m(\u001b[0m\u001b[0mdates\u001b[0m\u001b[0;34m,\u001b[0m \u001b[0mfeature\u001b[0m\u001b[0;34m)\u001b[0m\u001b[0;34m\u001b[0m\u001b[0;34m\u001b[0m\u001b[0m\n\u001b[0m\u001b[1;32m    362\u001b[0m                 \u001b[0mdf\u001b[0m\u001b[0;34m[\u001b[0m\u001b[0mfeat_name\u001b[0m\u001b[0;34m]\u001b[0m \u001b[0;34m=\u001b[0m \u001b[0mfeat_vals\u001b[0m\u001b[0;34m\u001b[0m\u001b[0;34m\u001b[0m\u001b[0m\n\u001b[1;32m    363\u001b[0m \u001b[0;34m\u001b[0m\u001b[0m\n\u001b[1;32m    364\u001b[0m         \u001b[0;31m# assemble return\u001b[0m\u001b[0;34m\u001b[0m\u001b[0;34m\u001b[0m\u001b[0;34m\u001b[0m\u001b[0m\n",
      "\u001b[0;32m~/Desktop/proj/my_env/lib/python3.9/site-packages/mlforecast/core.py\u001b[0m in \u001b[0;36m?\u001b[0;34m(self, dates, feature)\u001b[0m\n\u001b[1;32m    301\u001b[0m             \u001b[0mfeat_vals\u001b[0m \u001b[0;34m=\u001b[0m \u001b[0mfeature\u001b[0m\u001b[0;34m(\u001b[0m\u001b[0mdates\u001b[0m\u001b[0;34m)\u001b[0m\u001b[0;34m\u001b[0m\u001b[0;34m\u001b[0m\u001b[0m\n\u001b[1;32m    302\u001b[0m         \u001b[0;32melse\u001b[0m\u001b[0;34m:\u001b[0m\u001b[0;34m\u001b[0m\u001b[0;34m\u001b[0m\u001b[0m\n\u001b[1;32m    303\u001b[0m             \u001b[0mfeat_name\u001b[0m \u001b[0;34m=\u001b[0m \u001b[0mfeature\u001b[0m\u001b[0;34m\u001b[0m\u001b[0;34m\u001b[0m\u001b[0m\n\u001b[1;32m    304\u001b[0m             \u001b[0;32mif\u001b[0m \u001b[0mfeature\u001b[0m \u001b[0;32min\u001b[0m \u001b[0;34m(\u001b[0m\u001b[0;34m\"week\"\u001b[0m\u001b[0;34m,\u001b[0m \u001b[0;34m\"weekofyear\"\u001b[0m\u001b[0;34m)\u001b[0m\u001b[0;34m:\u001b[0m\u001b[0;34m\u001b[0m\u001b[0;34m\u001b[0m\u001b[0m\n\u001b[0;32m--> 305\u001b[0;31m                 \u001b[0mdates\u001b[0m \u001b[0;34m=\u001b[0m \u001b[0mdates\u001b[0m\u001b[0;34m.\u001b[0m\u001b[0misocalendar\u001b[0m\u001b[0;34m(\u001b[0m\u001b[0;34m)\u001b[0m\u001b[0;34m\u001b[0m\u001b[0;34m\u001b[0m\u001b[0m\n\u001b[0m\u001b[1;32m    306\u001b[0m             \u001b[0mfeat_vals\u001b[0m \u001b[0;34m=\u001b[0m \u001b[0mgetattr\u001b[0m\u001b[0;34m(\u001b[0m\u001b[0mdates\u001b[0m\u001b[0;34m,\u001b[0m \u001b[0mfeature\u001b[0m\u001b[0;34m)\u001b[0m\u001b[0;34m\u001b[0m\u001b[0;34m\u001b[0m\u001b[0m\n\u001b[1;32m    307\u001b[0m         \u001b[0mvals\u001b[0m \u001b[0;34m=\u001b[0m \u001b[0mnp\u001b[0m\u001b[0;34m.\u001b[0m\u001b[0masarray\u001b[0m\u001b[0;34m(\u001b[0m\u001b[0mfeat_vals\u001b[0m\u001b[0;34m)\u001b[0m\u001b[0;34m\u001b[0m\u001b[0;34m\u001b[0m\u001b[0m\n\u001b[1;32m    308\u001b[0m         \u001b[0mfeat_dtype\u001b[0m \u001b[0;34m=\u001b[0m \u001b[0mdate_features_dtypes\u001b[0m\u001b[0;34m.\u001b[0m\u001b[0mget\u001b[0m\u001b[0;34m(\u001b[0m\u001b[0mfeature\u001b[0m\u001b[0;34m)\u001b[0m\u001b[0;34m\u001b[0m\u001b[0;34m\u001b[0m\u001b[0m\n",
      "\u001b[0;32m~/Desktop/proj/my_env/lib/python3.9/site-packages/pandas/core/generic.py\u001b[0m in \u001b[0;36m?\u001b[0;34m(self, name)\u001b[0m\n\u001b[1;32m   6200\u001b[0m             \u001b[0;32mand\u001b[0m \u001b[0mname\u001b[0m \u001b[0;32mnot\u001b[0m \u001b[0;32min\u001b[0m \u001b[0mself\u001b[0m\u001b[0;34m.\u001b[0m\u001b[0m_accessors\u001b[0m\u001b[0;34m\u001b[0m\u001b[0;34m\u001b[0m\u001b[0m\n\u001b[1;32m   6201\u001b[0m             \u001b[0;32mand\u001b[0m \u001b[0mself\u001b[0m\u001b[0;34m.\u001b[0m\u001b[0m_info_axis\u001b[0m\u001b[0;34m.\u001b[0m\u001b[0m_can_hold_identifiers_and_holds_name\u001b[0m\u001b[0;34m(\u001b[0m\u001b[0mname\u001b[0m\u001b[0;34m)\u001b[0m\u001b[0;34m\u001b[0m\u001b[0;34m\u001b[0m\u001b[0m\n\u001b[1;32m   6202\u001b[0m         ):\n\u001b[1;32m   6203\u001b[0m             \u001b[0;32mreturn\u001b[0m \u001b[0mself\u001b[0m\u001b[0;34m[\u001b[0m\u001b[0mname\u001b[0m\u001b[0;34m]\u001b[0m\u001b[0;34m\u001b[0m\u001b[0;34m\u001b[0m\u001b[0m\n\u001b[0;32m-> 6204\u001b[0;31m         \u001b[0;32mreturn\u001b[0m \u001b[0mobject\u001b[0m\u001b[0;34m.\u001b[0m\u001b[0m__getattribute__\u001b[0m\u001b[0;34m(\u001b[0m\u001b[0mself\u001b[0m\u001b[0;34m,\u001b[0m \u001b[0mname\u001b[0m\u001b[0;34m)\u001b[0m\u001b[0;34m\u001b[0m\u001b[0;34m\u001b[0m\u001b[0m\n\u001b[0m",
      "\u001b[0;31mAttributeError\u001b[0m: 'Series' object has no attribute 'isocalendar'"
     ]
    }
   ],
   "source": [
    "model.fit(qb_train,\n",
    "          id_col= 'player_name',\n",
    "          time_col='week',\n",
    "          target_col='fantasy_points_ppr',\n",
    "          static_features=qb_static_fts,\n",
    "          max_horizon=h\n",
    "          )"
   ]
  },
  {
   "cell_type": "markdown",
   "metadata": {},
   "source": [
    "## Notes\n",
    "\n",
    "* Use RMSE, as its units will be in PPR, not PPR<sup>2</sup>\n",
    "* Horizon param. is subject to change"
   ]
  }
 ],
 "metadata": {
  "kernelspec": {
   "display_name": "my_env",
   "language": "python",
   "name": "python3"
  },
  "language_info": {
   "codemirror_mode": {
    "name": "ipython",
    "version": 3
   },
   "file_extension": ".py",
   "mimetype": "text/x-python",
   "name": "python",
   "nbconvert_exporter": "python",
   "pygments_lexer": "ipython3",
   "version": "3.9.6"
  },
  "orig_nbformat": 4
 },
 "nbformat": 4,
 "nbformat_minor": 2
}
