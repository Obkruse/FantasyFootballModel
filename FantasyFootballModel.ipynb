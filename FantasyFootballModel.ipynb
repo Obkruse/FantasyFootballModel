{
 "cells": [
  {
   "cell_type": "code",
   "execution_count": 7,
   "metadata": {},
   "outputs": [],
   "source": [
    "# install necessary packages\n",
    "import nfl_data_py as nfl\n",
    "import pandas as pd\n",
    "import numpy as np\n",
    "import matplotlib.pyplot as plt"
   ]
  },
  {
   "cell_type": "code",
   "execution_count": 8,
   "metadata": {},
   "outputs": [
    {
     "name": "stdout",
     "output_type": "stream",
     "text": [
      "Downcasting floats.\n",
      "Downcasting floats.\n"
     ]
    }
   ],
   "source": [
    "# extract pbp, weekly data\n",
    "weekly_data_test = nfl.import_weekly_data([2023])\n",
    "weekly_data_train = nfl.import_weekly_data([2022, 2021, 2020, 2019])"
   ]
  },
  {
   "cell_type": "code",
   "execution_count": 9,
   "metadata": {},
   "outputs": [
    {
     "data": {
      "text/html": [
       "<div>\n",
       "<style scoped>\n",
       "    .dataframe tbody tr th:only-of-type {\n",
       "        vertical-align: middle;\n",
       "    }\n",
       "\n",
       "    .dataframe tbody tr th {\n",
       "        vertical-align: top;\n",
       "    }\n",
       "\n",
       "    .dataframe thead th {\n",
       "        text-align: right;\n",
       "    }\n",
       "</style>\n",
       "<table border=\"1\" class=\"dataframe\">\n",
       "  <thead>\n",
       "    <tr style=\"text-align: right;\">\n",
       "      <th></th>\n",
       "      <th>player_id</th>\n",
       "      <th>player_name</th>\n",
       "      <th>player_display_name</th>\n",
       "      <th>position</th>\n",
       "      <th>position_group</th>\n",
       "      <th>headshot_url</th>\n",
       "      <th>recent_team</th>\n",
       "      <th>season</th>\n",
       "      <th>week</th>\n",
       "      <th>season_type</th>\n",
       "      <th>...</th>\n",
       "      <th>receiving_first_downs</th>\n",
       "      <th>receiving_epa</th>\n",
       "      <th>receiving_2pt_conversions</th>\n",
       "      <th>racr</th>\n",
       "      <th>target_share</th>\n",
       "      <th>air_yards_share</th>\n",
       "      <th>wopr</th>\n",
       "      <th>special_teams_tds</th>\n",
       "      <th>fantasy_points</th>\n",
       "      <th>fantasy_points_ppr</th>\n",
       "    </tr>\n",
       "  </thead>\n",
       "  <tbody>\n",
       "    <tr>\n",
       "      <th>0</th>\n",
       "      <td>00-0023459</td>\n",
       "      <td>A.Rodgers</td>\n",
       "      <td>Aaron Rodgers</td>\n",
       "      <td>QB</td>\n",
       "      <td>QB</td>\n",
       "      <td>https://static.www.nfl.com/image/private/f_aut...</td>\n",
       "      <td>NYJ</td>\n",
       "      <td>2023</td>\n",
       "      <td>1</td>\n",
       "      <td>REG</td>\n",
       "      <td>...</td>\n",
       "      <td>0.0</td>\n",
       "      <td>NaN</td>\n",
       "      <td>0</td>\n",
       "      <td>NaN</td>\n",
       "      <td>NaN</td>\n",
       "      <td>NaN</td>\n",
       "      <td>NaN</td>\n",
       "      <td>0.0</td>\n",
       "      <td>0.00</td>\n",
       "      <td>0.00</td>\n",
       "    </tr>\n",
       "    <tr>\n",
       "      <th>1</th>\n",
       "      <td>00-0024243</td>\n",
       "      <td>M.Lewis</td>\n",
       "      <td>Marcedes Lewis</td>\n",
       "      <td>TE</td>\n",
       "      <td>TE</td>\n",
       "      <td>https://static.www.nfl.com/image/private/f_aut...</td>\n",
       "      <td>CHI</td>\n",
       "      <td>2023</td>\n",
       "      <td>4</td>\n",
       "      <td>REG</td>\n",
       "      <td>...</td>\n",
       "      <td>0.0</td>\n",
       "      <td>0.483465</td>\n",
       "      <td>0</td>\n",
       "      <td>0.0</td>\n",
       "      <td>0.031250</td>\n",
       "      <td>-0.012397</td>\n",
       "      <td>0.038197</td>\n",
       "      <td>0.0</td>\n",
       "      <td>0.80</td>\n",
       "      <td>1.80</td>\n",
       "    </tr>\n",
       "    <tr>\n",
       "      <th>2</th>\n",
       "      <td>00-0024243</td>\n",
       "      <td>M.Lewis</td>\n",
       "      <td>Marcedes Lewis</td>\n",
       "      <td>TE</td>\n",
       "      <td>TE</td>\n",
       "      <td>https://static.www.nfl.com/image/private/f_aut...</td>\n",
       "      <td>CHI</td>\n",
       "      <td>2023</td>\n",
       "      <td>7</td>\n",
       "      <td>REG</td>\n",
       "      <td>...</td>\n",
       "      <td>1.0</td>\n",
       "      <td>1.437224</td>\n",
       "      <td>0</td>\n",
       "      <td>3.2</td>\n",
       "      <td>0.035714</td>\n",
       "      <td>0.089286</td>\n",
       "      <td>0.116071</td>\n",
       "      <td>0.0</td>\n",
       "      <td>1.60</td>\n",
       "      <td>2.60</td>\n",
       "    </tr>\n",
       "    <tr>\n",
       "      <th>3</th>\n",
       "      <td>00-0026498</td>\n",
       "      <td>M.Stafford</td>\n",
       "      <td>Matthew Stafford</td>\n",
       "      <td>QB</td>\n",
       "      <td>QB</td>\n",
       "      <td>https://static.www.nfl.com/image/private/f_aut...</td>\n",
       "      <td>LA</td>\n",
       "      <td>2023</td>\n",
       "      <td>1</td>\n",
       "      <td>REG</td>\n",
       "      <td>...</td>\n",
       "      <td>0.0</td>\n",
       "      <td>NaN</td>\n",
       "      <td>0</td>\n",
       "      <td>NaN</td>\n",
       "      <td>NaN</td>\n",
       "      <td>NaN</td>\n",
       "      <td>NaN</td>\n",
       "      <td>0.0</td>\n",
       "      <td>14.46</td>\n",
       "      <td>14.46</td>\n",
       "    </tr>\n",
       "    <tr>\n",
       "      <th>4</th>\n",
       "      <td>00-0026498</td>\n",
       "      <td>M.Stafford</td>\n",
       "      <td>Matthew Stafford</td>\n",
       "      <td>QB</td>\n",
       "      <td>QB</td>\n",
       "      <td>https://static.www.nfl.com/image/private/f_aut...</td>\n",
       "      <td>LA</td>\n",
       "      <td>2023</td>\n",
       "      <td>2</td>\n",
       "      <td>REG</td>\n",
       "      <td>...</td>\n",
       "      <td>0.0</td>\n",
       "      <td>NaN</td>\n",
       "      <td>0</td>\n",
       "      <td>NaN</td>\n",
       "      <td>NaN</td>\n",
       "      <td>NaN</td>\n",
       "      <td>NaN</td>\n",
       "      <td>0.0</td>\n",
       "      <td>13.98</td>\n",
       "      <td>13.98</td>\n",
       "    </tr>\n",
       "  </tbody>\n",
       "</table>\n",
       "<p>5 rows × 53 columns</p>\n",
       "</div>"
      ],
      "text/plain": [
       "    player_id player_name player_display_name position position_group  \\\n",
       "0  00-0023459   A.Rodgers       Aaron Rodgers       QB             QB   \n",
       "1  00-0024243     M.Lewis      Marcedes Lewis       TE             TE   \n",
       "2  00-0024243     M.Lewis      Marcedes Lewis       TE             TE   \n",
       "3  00-0026498  M.Stafford    Matthew Stafford       QB             QB   \n",
       "4  00-0026498  M.Stafford    Matthew Stafford       QB             QB   \n",
       "\n",
       "                                        headshot_url recent_team  season  \\\n",
       "0  https://static.www.nfl.com/image/private/f_aut...         NYJ    2023   \n",
       "1  https://static.www.nfl.com/image/private/f_aut...         CHI    2023   \n",
       "2  https://static.www.nfl.com/image/private/f_aut...         CHI    2023   \n",
       "3  https://static.www.nfl.com/image/private/f_aut...          LA    2023   \n",
       "4  https://static.www.nfl.com/image/private/f_aut...          LA    2023   \n",
       "\n",
       "   week season_type  ... receiving_first_downs  receiving_epa  \\\n",
       "0     1         REG  ...                   0.0            NaN   \n",
       "1     4         REG  ...                   0.0       0.483465   \n",
       "2     7         REG  ...                   1.0       1.437224   \n",
       "3     1         REG  ...                   0.0            NaN   \n",
       "4     2         REG  ...                   0.0            NaN   \n",
       "\n",
       "   receiving_2pt_conversions  racr  target_share  air_yards_share      wopr  \\\n",
       "0                          0   NaN           NaN              NaN       NaN   \n",
       "1                          0   0.0      0.031250        -0.012397  0.038197   \n",
       "2                          0   3.2      0.035714         0.089286  0.116071   \n",
       "3                          0   NaN           NaN              NaN       NaN   \n",
       "4                          0   NaN           NaN              NaN       NaN   \n",
       "\n",
       "   special_teams_tds  fantasy_points  fantasy_points_ppr  \n",
       "0                0.0            0.00                0.00  \n",
       "1                0.0            0.80                1.80  \n",
       "2                0.0            1.60                2.60  \n",
       "3                0.0           14.46               14.46  \n",
       "4                0.0           13.98               13.98  \n",
       "\n",
       "[5 rows x 53 columns]"
      ]
     },
     "execution_count": 9,
     "metadata": {},
     "output_type": "execute_result"
    }
   ],
   "source": [
    "# view head of data\n",
    "weekly_data_test.head()"
   ]
  },
  {
   "cell_type": "code",
   "execution_count": 10,
   "metadata": {},
   "outputs": [
    {
     "data": {
      "text/plain": [
       "array(['QB', 'TE', 'WR', 'P', 'FB', 'RB', 'T', 'OLB', 'ILB', 'CB', 'G',\n",
       "       'SS', 'DT'], dtype=object)"
      ]
     },
     "execution_count": 10,
     "metadata": {},
     "output_type": "execute_result"
    }
   ],
   "source": [
    "# view various positions\n",
    "weekly_data_test['position'].unique()"
   ]
  },
  {
   "cell_type": "code",
   "execution_count": 11,
   "metadata": {},
   "outputs": [
    {
     "data": {
      "text/plain": [
       "Index(['player_id', 'player_name', 'player_display_name', 'position',\n",
       "       'position_group', 'headshot_url', 'recent_team', 'season', 'week',\n",
       "       'season_type', 'completions', 'attempts', 'passing_yards',\n",
       "       'passing_tds', 'interceptions', 'sacks', 'sack_yards', 'sack_fumbles',\n",
       "       'sack_fumbles_lost', 'passing_air_yards', 'passing_yards_after_catch',\n",
       "       'passing_first_downs', 'passing_epa', 'passing_2pt_conversions', 'pacr',\n",
       "       'dakota', 'carries', 'rushing_yards', 'rushing_tds', 'rushing_fumbles',\n",
       "       'rushing_fumbles_lost', 'rushing_first_downs', 'rushing_epa',\n",
       "       'rushing_2pt_conversions', 'receptions', 'targets', 'receiving_yards',\n",
       "       'receiving_tds', 'receiving_fumbles', 'receiving_fumbles_lost',\n",
       "       'receiving_air_yards', 'receiving_yards_after_catch',\n",
       "       'receiving_first_downs', 'receiving_epa', 'receiving_2pt_conversions',\n",
       "       'racr', 'target_share', 'air_yards_share', 'wopr', 'special_teams_tds',\n",
       "       'fantasy_points', 'fantasy_points_ppr'],\n",
       "      dtype='object')"
      ]
     },
     "execution_count": 11,
     "metadata": {},
     "output_type": "execute_result"
    }
   ],
   "source": [
    "# show cols in weekly data\n",
    "nfl.see_weekly_cols()"
   ]
  },
  {
   "cell_type": "markdown",
   "metadata": {},
   "source": [
    "# Filter Variables from Entire Data"
   ]
  },
  {
   "cell_type": "code",
   "execution_count": 12,
   "metadata": {},
   "outputs": [],
   "source": [
    "# drop cols that are not needed in any dataframe\n",
    "cols_to_drop = ['player_id',\n",
    "                'player_display_name',\n",
    "                'position_group',\n",
    "                'headshot_url',\n",
    "                'season_type',\n",
    "                'receiving_2pt_conversions',\n",
    "                'interceptions',\n",
    "                'sacks',\n",
    "                'sack_yards',\n",
    "                'sack_fumbles',\n",
    "                'sack_fumbles_lost',\n",
    "                'receiving_fumbles_lost',\n",
    "                'receiving_fumbles',\n",
    "                'rushing_fumbles',\n",
    "                'rushing_fumbles_lost',\n",
    "                'special_teams_tds'\n",
    "                ]\n",
    "weekly_data_test.drop(cols_to_drop, axis=1, inplace=True)\n",
    "weekly_data_train.drop(cols_to_drop, axis=1, inplace=True)"
   ]
  },
  {
   "cell_type": "code",
   "execution_count": 13,
   "metadata": {},
   "outputs": [
    {
     "data": {
      "text/plain": [
       "Index(['player_name', 'position', 'recent_team', 'season', 'week',\n",
       "       'opponent_team', 'completions', 'attempts', 'passing_yards',\n",
       "       'passing_tds', 'passing_air_yards', 'passing_yards_after_catch',\n",
       "       'passing_first_downs', 'passing_epa', 'passing_2pt_conversions', 'pacr',\n",
       "       'dakota', 'carries', 'rushing_yards', 'rushing_tds',\n",
       "       'rushing_first_downs', 'rushing_epa', 'rushing_2pt_conversions',\n",
       "       'receptions', 'targets', 'receiving_yards', 'receiving_tds',\n",
       "       'receiving_air_yards', 'receiving_yards_after_catch',\n",
       "       'receiving_first_downs', 'receiving_epa', 'racr', 'target_share',\n",
       "       'air_yards_share', 'wopr', 'fantasy_points', 'fantasy_points_ppr'],\n",
       "      dtype='object')"
      ]
     },
     "execution_count": 13,
     "metadata": {},
     "output_type": "execute_result"
    }
   ],
   "source": [
    "# check that cols were dropped\n",
    "weekly_data_test.columns"
   ]
  },
  {
   "cell_type": "markdown",
   "metadata": {},
   "source": [
    "## Filter by Position"
   ]
  },
  {
   "cell_type": "code",
   "execution_count": 14,
   "metadata": {},
   "outputs": [],
   "source": [
    "\n",
    "#QB\n",
    "qb_train = weekly_data_train[weekly_data_train[\"position\"] == \"QB\" ]\n",
    "qb_test = weekly_data_test[weekly_data_test[\"position\"] == \"QB\"]\n",
    "\n",
    "#RB\n",
    "rb_train = weekly_data_train[weekly_data_train[\"position\"] == \"RB\"]\n",
    "rb_test = weekly_data_test[weekly_data_test[\"position\"] == \"RB\"]\n",
    "\n",
    "#WR\n",
    "wr_train = weekly_data_train[weekly_data_train[\"position\"] == \"WR\"]\n",
    "wr_test = weekly_data_test[weekly_data_test[\"position\"] == \"WR\"]\n",
    "\n",
    "#TE\n",
    "te_train = weekly_data_train[weekly_data_train[\"position\"] == \"TE\"]\n",
    "te_test = weekly_data_test[weekly_data_test[\"position\"] == \"TE\"]\n",
    "\n",
    "#FLEX\n",
    "flex_list = [\"RB\", \"WR\", \"TE\"]\n",
    "flex_train = weekly_data_train[weekly_data_train[\"position\"].isin(flex_list)]\n",
    "flex_test = weekly_data_test[weekly_data_test[\"position\"].isin(flex_list)]"
   ]
  },
  {
   "cell_type": "code",
   "execution_count": 19,
   "metadata": {},
   "outputs": [
    {
     "data": {
      "text/plain": [
       "array(['TE', 'WR', 'RB'], dtype=object)"
      ]
     },
     "execution_count": 19,
     "metadata": {},
     "output_type": "execute_result"
    }
   ],
   "source": [
    "# check that the flex position is correct\n",
    "flex_train[\"position\"].unique()"
   ]
  },
  {
   "cell_type": "markdown",
   "metadata": {},
   "source": [
    "## Remove NA Values / Drop Cols by Position"
   ]
  },
  {
   "cell_type": "code",
   "execution_count": null,
   "metadata": {},
   "outputs": [],
   "source": [
    "# define removeNA function\n",
    "def removeNA(input_df):\n",
    "    out_df = input_df.dropna(axis=1)\n",
    "    \n",
    "    return"
   ]
  },
  {
   "cell_type": "code",
   "execution_count": 15,
   "metadata": {},
   "outputs": [
    {
     "data": {
      "text/plain": [
       "Index(['player_name', 'position', 'recent_team', 'season', 'week',\n",
       "       'completions', 'attempts', 'passing_yards', 'passing_tds',\n",
       "       'passing_air_yards', 'passing_yards_after_catch', 'passing_first_downs',\n",
       "       'passing_epa', 'passing_2pt_conversions', 'pacr', 'dakota', 'carries',\n",
       "       'rushing_yards', 'rushing_tds', 'rushing_first_downs', 'rushing_epa',\n",
       "       'rushing_2pt_conversions', 'receptions', 'targets', 'receiving_yards',\n",
       "       'receiving_tds', 'receiving_air_yards', 'receiving_yards_after_catch',\n",
       "       'receiving_first_downs', 'receiving_epa', 'racr', 'target_share',\n",
       "       'air_yards_share', 'wopr', 'fantasy_points', 'fantasy_points_ppr'],\n",
       "      dtype='object')"
      ]
     },
     "execution_count": 15,
     "metadata": {},
     "output_type": "execute_result"
    }
   ],
   "source": [
    "# inspect qb for NAs\n",
    "qb_train.columns\n"
   ]
  },
  {
   "cell_type": "code",
   "execution_count": null,
   "metadata": {},
   "outputs": [],
   "source": [
    "# define qb cols to drop\n",
    "qb_cols_to_drop = ['receptions',\n",
    "                   'targets',\n",
    "                   'receiving_yards',\n",
    "                   'receiving_tds',\n",
    "                   'receiving_air_yards',\n",
    "                   'receiving_yards_after_catch',\n",
    "                   'receiving_first_downs',\n",
    "                   'receiving_epa',\n",
    "                   'racr',\n",
    "                   'target_share',\n",
    "                   'air_yards_share',\n",
    "                   ]"
   ]
  },
  {
   "cell_type": "code",
   "execution_count": null,
   "metadata": {},
   "outputs": [],
   "source": [
    "#inspect rb for NAs"
   ]
  },
  {
   "cell_type": "code",
   "execution_count": null,
   "metadata": {},
   "outputs": [],
   "source": [
    "# define rb cols to drop\n",
    "rb_cols_to_drop = []"
   ]
  },
  {
   "cell_type": "code",
   "execution_count": null,
   "metadata": {},
   "outputs": [],
   "source": [
    "# inspect wr for NAs"
   ]
  },
  {
   "cell_type": "code",
   "execution_count": null,
   "metadata": {},
   "outputs": [],
   "source": [
    "# define wr cols to drop\n",
    "wr_cols_to_drop = []"
   ]
  },
  {
   "cell_type": "code",
   "execution_count": null,
   "metadata": {},
   "outputs": [],
   "source": [
    "# inspect te for NAs"
   ]
  },
  {
   "cell_type": "code",
   "execution_count": null,
   "metadata": {},
   "outputs": [],
   "source": [
    "# define te cols to drop\n",
    "te_cols_to_drop = []"
   ]
  },
  {
   "cell_type": "code",
   "execution_count": null,
   "metadata": {},
   "outputs": [],
   "source": [
    "# inspect flex for NAs"
   ]
  },
  {
   "cell_type": "code",
   "execution_count": null,
   "metadata": {},
   "outputs": [],
   "source": [
    "# define flex cols to drop\n",
    "flex_cols_to_drop = []"
   ]
  },
  {
   "cell_type": "code",
   "execution_count": null,
   "metadata": {},
   "outputs": [],
   "source": []
  }
 ],
 "metadata": {
  "kernelspec": {
   "display_name": "my_env",
   "language": "python",
   "name": "python3"
  },
  "language_info": {
   "codemirror_mode": {
    "name": "ipython",
    "version": 3
   },
   "file_extension": ".py",
   "mimetype": "text/x-python",
   "name": "python",
   "nbconvert_exporter": "python",
   "pygments_lexer": "ipython3",
   "version": "3.9.6"
  },
  "orig_nbformat": 4
 },
 "nbformat": 4,
 "nbformat_minor": 2
}
