{
 "cells": [
  {
   "cell_type": "code",
   "execution_count": 11,
   "metadata": {},
   "outputs": [],
   "source": [
    "# install necessary packages\n",
    "import nfl_data_py as nfl\n",
    "import pandas as pd\n",
    "import numpy as np\n",
    "import matplotlib.pyplot as plt"
   ]
  },
  {
   "cell_type": "code",
   "execution_count": 3,
   "metadata": {},
   "outputs": [
    {
     "name": "stdout",
     "output_type": "stream",
     "text": [
      "2023 done.\n",
      "Downcasting floats.\n",
      "Downcasting floats.\n"
     ]
    }
   ],
   "source": [
    "# extract pbp, weekly data\n",
    "pbp = nfl.import_pbp_data([2023])\n",
    "weekly = nfl.import_weekly_data([2023])"
   ]
  },
  {
   "cell_type": "code",
   "execution_count": 4,
   "metadata": {},
   "outputs": [
    {
     "data": {
      "text/plain": [
       "Index(['play_id', 'game_id', 'old_game_id', 'home_team', 'away_team',\n",
       "       'season_type', 'week', 'posteam', 'posteam_type', 'defteam',\n",
       "       ...\n",
       "       'out_of_bounds', 'home_opening_kickoff', 'qb_epa', 'xyac_epa',\n",
       "       'xyac_mean_yardage', 'xyac_median_yardage', 'xyac_success', 'xyac_fd',\n",
       "       'xpass', 'pass_oe'],\n",
       "      dtype='object', length=372)"
      ]
     },
     "execution_count": 4,
     "metadata": {},
     "output_type": "execute_result"
    }
   ],
   "source": [
    "# show cols in pbp data\n",
    "nfl.see_pbp_cols()"
   ]
  },
  {
   "cell_type": "code",
   "execution_count": 6,
   "metadata": {},
   "outputs": [
    {
     "data": {
      "text/plain": [
       "Index(['player_id', 'player_name', 'player_display_name', 'position',\n",
       "       'position_group', 'headshot_url', 'recent_team', 'season', 'week',\n",
       "       'season_type', 'completions', 'attempts', 'passing_yards',\n",
       "       'passing_tds', 'interceptions', 'sacks', 'sack_yards', 'sack_fumbles',\n",
       "       'sack_fumbles_lost', 'passing_air_yards', 'passing_yards_after_catch',\n",
       "       'passing_first_downs', 'passing_epa', 'passing_2pt_conversions', 'pacr',\n",
       "       'dakota', 'carries', 'rushing_yards', 'rushing_tds', 'rushing_fumbles',\n",
       "       'rushing_fumbles_lost', 'rushing_first_downs', 'rushing_epa',\n",
       "       'rushing_2pt_conversions', 'receptions', 'targets', 'receiving_yards',\n",
       "       'receiving_tds', 'receiving_fumbles', 'receiving_fumbles_lost',\n",
       "       'receiving_air_yards', 'receiving_yards_after_catch',\n",
       "       'receiving_first_downs', 'receiving_epa', 'receiving_2pt_conversions',\n",
       "       'racr', 'target_share', 'air_yards_share', 'wopr', 'special_teams_tds',\n",
       "       'fantasy_points', 'fantasy_points_ppr'],\n",
       "      dtype='object')"
      ]
     },
     "execution_count": 6,
     "metadata": {},
     "output_type": "execute_result"
    }
   ],
   "source": [
    "# show cols in weekly data\n",
    "nfl.see_weekly_cols()"
   ]
  }
 ],
 "metadata": {
  "kernelspec": {
   "display_name": "my_env",
   "language": "python",
   "name": "python3"
  },
  "language_info": {
   "codemirror_mode": {
    "name": "ipython",
    "version": 3
   },
   "file_extension": ".py",
   "mimetype": "text/x-python",
   "name": "python",
   "nbconvert_exporter": "python",
   "pygments_lexer": "ipython3",
   "version": "3.9.6"
  },
  "orig_nbformat": 4
 },
 "nbformat": 4,
 "nbformat_minor": 2
}
